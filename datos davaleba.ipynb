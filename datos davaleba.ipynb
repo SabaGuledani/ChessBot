{
 "cells": [
  {
   "cell_type": "code",
   "execution_count": 10,
   "id": "190ab66e-0a55-402c-8671-cc240fc63aed",
   "metadata": {},
   "outputs": [],
   "source": []
  },
  {
   "cell_type": "code",
   "execution_count": null,
   "id": "6427c1da-24d8-4c48-9072-b583ea02eb0d",
   "metadata": {},
   "outputs": [],
   "source": []
  },
  {
   "cell_type": "code",
   "execution_count": 7,
   "id": "5ca7905b-7a86-4544-b090-fd2a1178a937",
   "metadata": {},
   "outputs": [],
   "source": [
    "import mechanicalsoup\n",
    "import pandas as pd\n",
    "import sqlite3\n",
    "openai=mechanicalsoup.StatefulBrowser()\n",
    "openai.open('https://en.wikipedia.org/wiki/Comparison_of_Linux_distributions')\n",
    "th=openai.page.find_all(\"th\", attrs={\"class\":\"table-rh\"})\n",
    "distro=[value.text for value in th]\n",
    "distro = [word.replace('\\n',\"\") for word in distro]\n",
    "df = pd.DataFrame({\"name\":distro})\n",
    "connection = sqlite3.connect(\"linux_distro.db\")\n",
    "cursor = connection.cursor()\n",
    "cursor.execute(\"create table linux (Distro)\")\n",
    "for i in range(len(df)):\n",
    "    cursor.execute(\"insert into linux values (?)\", df.iloc[i]) #iloc=integer location\n",
    "connection.commit()\n",
    "connection.close()"
   ]
  },
  {
   "cell_type": "code",
   "execution_count": 12,
   "id": "ef8b5054-7a2c-477f-a2a0-4c39cd386293",
   "metadata": {},
   "outputs": [
    {
     "data": {
      "text/plain": [
       "<sqlite3.Cursor at 0x1882b718f80>"
      ]
     },
     "execution_count": 12,
     "metadata": {},
     "output_type": "execute_result"
    }
   ],
   "source": []
  },
  {
   "cell_type": "code",
   "execution_count": 16,
   "id": "c12586d9-fd93-47f4-9e65-8175b578f0c0",
   "metadata": {},
   "outputs": [
    {
     "name": "stdout",
     "output_type": "stream",
     "text": [
      " * Serving Flask app '__main__'\n",
      " * Debug mode: off\n"
     ]
    },
    {
     "name": "stderr",
     "output_type": "stream",
     "text": [
      "WARNING: This is a development server. Do not use it in a production deployment. Use a production WSGI server instead.\n",
      " * Running on http://127.0.0.1:5000\n",
      "Press CTRL+C to quit\n",
      "127.0.0.1 - - [18/May/2024 10:35:13] \"GET / HTTP/1.1\" 404 -\n"
     ]
    }
   ],
   "source": [
    "from flask import Flask\n",
    "app=Flask(__name__)\n",
    "@app.route('/home')\n",
    "def home():\n",
    "    return 'REST SQLite'\n",
    "if __name__=='__main__':\n",
    "    app.run()\n"
   ]
  },
  {
   "cell_type": "code",
   "execution_count": 35,
   "id": "d72a494b-a315-4ae6-952b-6c8a4be6d3ce",
   "metadata": {},
   "outputs": [
    {
     "data": {
      "text/plain": [
       "<Response [200]>"
      ]
     },
     "execution_count": 35,
     "metadata": {},
     "output_type": "execute_result"
    }
   ],
   "source": []
  },
  {
   "cell_type": "code",
   "execution_count": 36,
   "id": "c8a99239-d3f4-4314-9b18-b0e750018b60",
   "metadata": {},
   "outputs": [],
   "source": []
  },
  {
   "cell_type": "code",
   "execution_count": 47,
   "id": "0b27982c-a5bf-4750-8968-974ef3e1947b",
   "metadata": {},
   "outputs": [],
   "source": [
    "openai=mechanicalsoup.StatefulBrowser()\n",
    "openai.open('https://docs.python.org/3/library/random.html')\n",
    "th=openai.page.find_all(\"dl\", attrs={\"class\":\"py function\"})\n",
    "func_name = openai.page.find_all('dt',attrs={\"class\":'sig sig-object py'})\n",
    "abstr = openai.page.find_all('dd')\n",
    "func_name = [name.text for name in func_name]\n",
    "abstr = [desc.text for desc in abstr]\n",
    "\n",
    "df2 = pd.DataFrame(columns=[\"name\",'description'])\n",
    "df2['name'] = func_name\n",
    "df2['description'] = abstr"
   ]
  },
  {
   "cell_type": "code",
   "execution_count": 68,
   "id": "9a8d3880-3be9-4d1f-a709-a08a32384c19",
   "metadata": {},
   "outputs": [],
   "source": [
    "abstr.append(None)"
   ]
  },
  {
   "cell_type": "code",
   "execution_count": null,
   "id": "94d1cca7-25cd-46ba-82f6-7a74a26d119e",
   "metadata": {},
   "outputs": [],
   "source": []
  },
  {
   "cell_type": "code",
   "execution_count": 50,
   "id": "2d5f1787-f860-4bd1-a134-b529de785c9b",
   "metadata": {},
   "outputs": [],
   "source": [
    "res = dict(map(lambda i,j : (i,j) , func_name,abstr))"
   ]
  },
  {
   "cell_type": "code",
   "execution_count": 55,
   "id": "cc1b1faf-6a6d-4ca9-8b56-b710d63db01e",
   "metadata": {},
   "outputs": [],
   "source": []
  },
  {
   "cell_type": "code",
   "execution_count": 59,
   "id": "ac072823-e76b-4511-8fb8-68f961340ba3",
   "metadata": {},
   "outputs": [],
   "source": []
  },
  {
   "cell_type": "code",
   "execution_count": 69,
   "id": "9e547d4a-c3d5-4eef-a4ae-d51453dcc3a7",
   "metadata": {},
   "outputs": [
    {
     "data": {
      "text/plain": [
       "32"
      ]
     },
     "execution_count": 69,
     "metadata": {},
     "output_type": "execute_result"
    }
   ],
   "source": [
    "len(abstr)"
   ]
  },
  {
   "cell_type": "code",
   "execution_count": 70,
   "id": "8b3f5975-3500-4101-a8e1-954974f2f908",
   "metadata": {},
   "outputs": [],
   "source": []
  },
  {
   "cell_type": "code",
   "execution_count": null,
   "id": "44d373fd-5e7c-49de-b2c2-31307614bfd6",
   "metadata": {},
   "outputs": [],
   "source": []
  }
 ],
 "metadata": {
  "kernelspec": {
   "display_name": "Python 3 (ipykernel)",
   "language": "python",
   "name": "python3"
  },
  "language_info": {
   "codemirror_mode": {
    "name": "ipython",
    "version": 3
   },
   "file_extension": ".py",
   "mimetype": "text/x-python",
   "name": "python",
   "nbconvert_exporter": "python",
   "pygments_lexer": "ipython3",
   "version": "3.9.18"
  }
 },
 "nbformat": 4,
 "nbformat_minor": 5
}
