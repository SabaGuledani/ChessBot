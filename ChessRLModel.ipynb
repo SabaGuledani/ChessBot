{
 "cells": [
  {
   "cell_type": "code",
   "execution_count": 189,
   "id": "f8bd30ca-6841-41bc-afe4-6c3951e7e315",
   "metadata": {},
   "outputs": [
    {
     "name": "stdout",
     "output_type": "stream",
     "text": [
      "cuda\n"
     ]
    }
   ],
   "source": [
    "import math\n",
    "import random\n",
    "import numpy as np\n",
    "import matplotlib\n",
    "import matplotlib.pyplot as plt\n",
    "from collections import namedtuple, deque\n",
    "from itertools import count\n",
    "\n",
    "import chess\n",
    "import torch\n",
    "import torch.nn as nn\n",
    "import torch.optim as optim\n",
    "import torch.nn.functional as F\n",
    "# set up matplotlib\n",
    "is_ipython = 'inline' in matplotlib.get_backend()\n",
    "if is_ipython:\n",
    "    from IPython import display\n",
    "\n",
    "plt.ion()\n",
    "\n",
    "# if GPU is to be used\n",
    "device = torch.device(\"cuda\" if torch.cuda.is_available() else \"cpu\")\n",
    "print(device)\n",
    "\n",
    "board = chess.Board() #initialize Board"
   ]
  },
  {
   "cell_type": "code",
   "execution_count": 119,
   "id": "cf5a43d2-d094-4a89-b532-74dc0f14e906",
   "metadata": {},
   "outputs": [],
   "source": [
    "Transition = namedtuple('Transition',\n",
    "                        ('state', 'action', 'next_state', 'reward'))\n",
    "class ReplayMemory(object):\n",
    "\n",
    "    def __init__(self, capacity):\n",
    "        self.memory = deque([], maxlen=capacity)\n",
    "\n",
    "    def push(self, *args):\n",
    "        \"\"\"Save a transition\"\"\"\n",
    "        self.memory.append(Transition(*args))\n",
    "\n",
    "    def sample(self, batch_size):\n",
    "        return random.sample(self.memory, batch_size)\n",
    "\n",
    "    def __len__(self):\n",
    "        return len(self.memory)"
   ]
  },
  {
   "cell_type": "code",
   "execution_count": 120,
   "id": "596976d6-93bd-47b7-95af-d891a5cee9d8",
   "metadata": {},
   "outputs": [],
   "source": [
    "class MultiDimLinear(torch.nn.Linear):\n",
    "    def __init__(self, in_features, out_shape, **kwargs):\n",
    "        self.out_shape = out_shape\n",
    "        out_features = np.prod(out_shape)\n",
    "        super().__init__(in_features, out_features, **kwargs)\n",
    "\n",
    "    def forward(self, x):\n",
    "        out = super().forward(x)\n",
    "        return out.reshape((len(x), *self.out_shape))"
   ]
  },
  {
   "cell_type": "code",
   "execution_count": null,
   "id": "14cd2eb0-3992-4deb-8a5d-c33b15c9cd08",
   "metadata": {},
   "outputs": [],
   "source": []
  },
  {
   "cell_type": "code",
   "execution_count": 138,
   "id": "8e490579-8110-46d5-8c58-b3ec7607b1e5",
   "metadata": {},
   "outputs": [],
   "source": [
    "class DQN(nn.Module):\n",
    "\n",
    "    def __init__(self, n_observations):\n",
    "        super(DQN, self).__init__()\n",
    "        self.layer1 = nn.Linear(n_observations, 128)\n",
    "        self.layer2 = nn.Linear(128, 128)\n",
    "        self.layer3 = MultiDimLinear(in_features=128, out_shape=(2, 64))\n",
    "\n",
    "    # Called with either one element to determine next action, or a batch\n",
    "    # during optimization. Returns tensor([[left0exp,right0exp]...]).\n",
    "    def forward(self, x):\n",
    "        x = F.relu(self.layer1(x))\n",
    "        x = F.relu(self.layer2(x))\n",
    "        output = F.softmax(self.layer3(x),dim=2)\n",
    "        return output\n"
   ]
  },
  {
   "cell_type": "code",
   "execution_count": 199,
   "id": "38a8599c-f4e2-468f-8414-f4378dc88b29",
   "metadata": {},
   "outputs": [],
   "source": [
    "mapped = {\n",
    "        'P': 1,     # White Pawn\n",
    "        'p': -1,    # Black Pawn\n",
    "        'N': 2,     # White Knight\n",
    "        'n': -2,    # Black Knight\n",
    "        'B': 3,     # White Bishop\n",
    "        'b': -3,    # Black Bishop\n",
    "        'R': 4,     # White Rook\n",
    "        'r': -4,    # Black Rook\n",
    "        'Q': 5,     # White Queen\n",
    "        'q': -5,    # Black Queen\n",
    "        'K': 6,     # White King\n",
    "        'k': -6     # Black King\n",
    "        }"
   ]
  },
  {
   "cell_type": "code",
   "execution_count": 201,
   "id": "194f630b-3cd3-48b6-8fb1-318a070300cd",
   "metadata": {},
   "outputs": [],
   "source": []
  },
  {
   "cell_type": "code",
   "execution_count": 216,
   "id": "3ce56fcd-0cd8-4829-8e56-9a6551849981",
   "metadata": {},
   "outputs": [],
   "source": [
    "def make_matrix(board)->np.array: #type(board) == chess.Board()\n",
    "    pgn = board.epd()\n",
    "    array = []  #Final board\n",
    "    pieces = pgn.split(\" \", 1)[0]\n",
    "    rows = pieces.split(\"/\")\n",
    "    for row in rows:\n",
    "        array2 = []  #This is the row I make\n",
    "        for thing in row:\n",
    "            if thing.isdigit():\n",
    "                for i in range(0, int(thing)):\n",
    "                    array2.append(0)\n",
    "            else:\n",
    "                array2.append(mapped[thing])\n",
    "        array.append(array2)\n",
    "    return np.array(array,dtype=np.int16)"
   ]
  },
  {
   "cell_type": "code",
   "execution_count": 219,
   "id": "caf04d58-ff1a-4a6e-a4b7-b8b780d00db5",
   "metadata": {},
   "outputs": [
    {
     "name": "stdout",
     "output_type": "stream",
     "text": [
      "128\n"
     ]
    }
   ],
   "source": [
    "matrix_board: np.array = make_matrix(board)\n"
   ]
  },
  {
   "cell_type": "code",
   "execution_count": 113,
   "id": "c8f8c1fc-6c4b-4f47-9547-83ac2fe3e82e",
   "metadata": {},
   "outputs": [],
   "source": [
    "# BATCH_SIZE is the number of transitions sampled from the replay buffer\n",
    "# GAMMA is the discount factor as mentioned in the previous section\n",
    "# EPS_START is the starting value of epsilon\n",
    "# EPS_END is the final value of epsilon\n",
    "# EPS_DECAY controls the rate of exponential decay of epsilon, higher means a slower decay\n",
    "# TAU is the update rate of the target network\n",
    "# LR is the learning rate of the ``AdamW`` optimizer\n",
    "BATCH_SIZE = 128\n",
    "GAMMA = 0.99\n",
    "EPS_START = 0.9\n",
    "EPS_END = 0.05\n",
    "EPS_DECAY = 1000\n",
    "TAU = 0.005\n",
    "LR = 1e-4"
   ]
  },
  {
   "cell_type": "code",
   "execution_count": null,
   "id": "1be1b0b7-366a-4f17-8904-64c16191b850",
   "metadata": {},
   "outputs": [],
   "source": []
  },
  {
   "cell_type": "code",
   "execution_count": 141,
   "id": "3a451874-e0b2-4264-9384-efce67898131",
   "metadata": {},
   "outputs": [
    {
     "data": {
      "text/plain": [
       "<All keys matched successfully>"
      ]
     },
     "execution_count": 141,
     "metadata": {},
     "output_type": "execute_result"
    }
   ],
   "source": [
    "\n",
    "policy_net = DQN(n_observations).to(device)\n",
    "target_net = DQN(n_observations).to(device)\n",
    "target_net.load_state_dict(policy_net.state_dict())"
   ]
  },
  {
   "cell_type": "code",
   "execution_count": 174,
   "id": "0c7f38ab-63ad-474e-83d9-3baaf9124f95",
   "metadata": {},
   "outputs": [],
   "source": [
    "optimizer = optim.AdamW(policy_net.parameters(), lr=LR, amsgrad=True)\n",
    "memory = ReplayMemory(10000)\n",
    "\n",
    "steps_done = 0"
   ]
  },
  {
   "cell_type": "code",
   "execution_count": 182,
   "id": "9d205bba-c139-402e-876e-b9a9c2da3d8f",
   "metadata": {},
   "outputs": [
    {
     "name": "stderr",
     "output_type": "stream",
     "text": [
      "C:\\Users\\warfa\\AppData\\Local\\Temp\\ipykernel_22236\\4243193404.py:1: UserWarning: To copy construct from a tensor, it is recommended to use sourceTensor.clone().detach() or sourceTensor.clone().detach().requires_grad_(True), rather than torch.tensor(sourceTensor).\n",
      "  state = torch.tensor(state, dtype=torch.float32, device=device).unsqueeze(0)\n"
     ]
    },
    {
     "data": {
      "text/plain": [
       "tensor([50, 27], device='cuda:0')"
      ]
     },
     "execution_count": 182,
     "metadata": {},
     "output_type": "execute_result"
    }
   ],
   "source": [
    "def select_action(state):\n",
    "    global steps_done\n",
    "    sample = random.random()\n",
    "    eps_threshold = EPS_END + (EPS_START - EPS_END) * \\\n",
    "                    math.exp(-1. * steps_done / EPS_DECAY)\n",
    "    steps_done += 1\n",
    "    if sample > eps_threshold:\n",
    "        with torch.no_grad():\n",
    "            # t.max(1) will return the largest column value of each row.\n",
    "            # second column on max result is index of where max element was\n",
    "            # found, so we pick action with the larger expected reward.\n",
    "            return policy_net(state).max(dim=2).indices.view(2)\n",
    "    else:\n",
    "        return torch.tensor([[env.action_space.sample()]], device=device, dtype=torch.long)\n",
    "\n",
    "\n"
   ]
  },
  {
   "cell_type": "code",
   "execution_count": 114,
   "id": "598d11a9-0a3d-4927-969e-e57040b7bb7c",
   "metadata": {},
   "outputs": [],
   "source": [
    "def make_move(board,move_str:str)->None:\n",
    "    move = chess.Move.from_uci(move_str)\n",
    "    if move in board.legal_moves:\n",
    "        board.push(move)\n",
    "    else:\n",
    "        print(\"not legal move\")\n",
    "    \n",
    "def get_legal_moves(board):\n",
    "    legal_moves = [str(move) for move in list(board.legal_moves)]\n",
    "    legal_moves = np.array(legal_moves,dtype='object')\n",
    "    return legal_moves\n",
    "    \n",
    "def state(board):\n",
    "    return board.epd()\n",
    "\n",
    "def next_state(board,move_str):\n",
    "    move = chess.Move.from_uci(move_str)\n",
    "    if move in board.legal_moves:\n",
    "        board.push(move)\n",
    "    else:\n",
    "        print(\"not legal move\")\n",
    "    next_state = state(board)\n",
    "    board.pop()\n",
    "    return next_state\n",
    "\n",
    "\n",
    "\n",
    "    "
   ]
  },
  {
   "cell_type": "code",
   "execution_count": 101,
   "id": "e12e9036-3d7d-4013-8e1c-76accf08b452",
   "metadata": {},
   "outputs": [],
   "source": [
    "class ChessBoardEnv():\n",
    "    def __init__(self,board:chess.Board):\n",
    "        self.black_mapped = {\n",
    "         #black pieces\n",
    "        'p': 1,    \n",
    "        'n': 3,    \n",
    "        'b': 3,    \n",
    "        'r': 5,    \n",
    "        'q': 9\n",
    "        }\n",
    "        self.white_mapped = {\n",
    "            'P':1,\n",
    "            'N':3,\n",
    "            'B':3,\n",
    "            'R':5,\n",
    "            'Q':9\n",
    "        }\n",
    "        self.white_reward_pool =  torch.tensor(3.9000, dtype=torch.float32)\n",
    "        self.black_reward_pool = torch.tensor(3.9000, dtype=torch.float32)\n",
    "        self.board = board\n",
    "         \n",
    "    def calculate_reward(color, move):\n",
    "        color = 'white' if self.board.turn else 'black'\n",
    "        \n",
    "        if board.is_checkmate():\n",
    "            if color == 'white':\n",
    "                return torch.tensor(100.0, dtype=torch.float32)\n",
    "                \n",
    "            else:\n",
    "                self.black_reward_pool += 100.0\n",
    "        else:\n",
    "            # If the game is not over, return a reward based on the current state of the board\n",
    "            if color == 'white':\n",
    "                self.white_reward_pool = self.evaluate_score()\n",
    "            else:\n",
    "                self.black_reward_pool = self.evaluate_score()\n",
    "            \n",
    "    def reset(self):\n",
    "        self.board.reset()\n",
    "        return self.board.fen"
   ]
  },
  {
   "cell_type": "code",
   "execution_count": 92,
   "id": "bf30fff9-d9fe-42b0-9347-44c3448b1995",
   "metadata": {},
   "outputs": [],
   "source": [
    "board = chess.Board()\n",
    "board2 = chess.Board()"
   ]
  },
  {
   "cell_type": "code",
   "execution_count": 106,
   "id": "125791ed-72ff-40b3-ab71-75d994208136",
   "metadata": {},
   "outputs": [],
   "source": [
    "make_move(board2,'e7e6')"
   ]
  },
  {
   "cell_type": "code",
   "execution_count": 111,
   "id": "a1e61917-b024-45d0-8ab2-be383c1b52ba",
   "metadata": {},
   "outputs": [
    {
     "name": "stdout",
     "output_type": "stream",
     "text": [
      "black\n"
     ]
    }
   ],
   "source": [
    "color = 'white' if board.turn else 'black'\n",
    "print(color)"
   ]
  },
  {
   "cell_type": "code",
   "execution_count": 58,
   "id": "287cecc0-2a1e-4097-b8cb-deec6f3f873c",
   "metadata": {},
   "outputs": [],
   "source": [
    "\n",
    "class ChessRewardFunction:\n",
    "    def __init__(self):\n",
    "        self.black_mapped = {\n",
    "         #black pieces\n",
    "        'p': 1,    \n",
    "        'n': 3,    \n",
    "        'b': 3,    \n",
    "        'r': 5,    \n",
    "        'q': 9\n",
    "        }\n",
    "        self.white_mapped = {\n",
    "            'P':1,\n",
    "            'N':3,\n",
    "            'B':3,\n",
    "            'R':5,\n",
    "            'Q':9\n",
    "        }\n",
    "        self.white_reward_pool =  torch.tensor(3.9000, dtype=torch.float32)\n",
    "        self.black_reward_pool = torch.tensor(3.9000, dtype=torch.float32)\n",
    "\n",
    "    def assign_scores():\n",
    "        \n",
    "    \n",
    "    def calculate_reward(board, color):\n",
    "        \n",
    "        if board.is_checkmate():\n",
    "            if color == 'white':\n",
    "                return torch.tensor(100.0, dtype=torch.float32)\n",
    "                \n",
    "            else:\n",
    "                self.black_reward_pool += 100.0\n",
    "        else:\n",
    "            # If the game is not over, return a reward based on the current state of the board\n",
    "            if color == 'white':\n",
    "                self.white_reward_pool = self.evaluate_score()\n",
    "            else:\n",
    "                self.black_reward_pool = self.evaluate_score()\n",
    "    def evaluate_score(self, board, color):\n",
    "        '''\n",
    "        Pawn - 1 point\n",
    "        Knight - 3 points\n",
    "        Bishop - 3 points\n",
    "        Rook - 5 points\n",
    "        Queen - 9 points\n",
    "        '''\n",
    "        epd_string = board.board_fen()\n",
    "        scores = []\n",
    "        if color == \"white\":\n",
    "            for i in epd_string:\n",
    "                if i != \"/\" and i in self.white_mapped:\n",
    "                    scores.append(self.white_mapped[i])\n",
    "        else:\n",
    "            for i in epd_string:\n",
    "                if i != \"/\" and i in self.black_mapped:\n",
    "                    scores.append(self.black_mapped[i])\n",
    "        return torch.tensor(sum(scores)*0.1,dtype=torch.float32)\n",
    "\n",
    "    \n",
    "            \n",
    "        \n",
    "        \n",
    "\n",
    "\n"
   ]
  },
  {
   "cell_type": "code",
   "execution_count": 59,
   "id": "f4224642-4ab2-4473-8fbb-ee49b62761be",
   "metadata": {},
   "outputs": [],
   "source": [
    "reward = ChessRewardFunction()"
   ]
  },
  {
   "cell_type": "code",
   "execution_count": 60,
   "id": "1a7138a3-bfba-4881-b858-d92cee0c823a",
   "metadata": {},
   "outputs": [
    {
     "data": {
      "text/plain": [
       "tensor(3.9000)"
      ]
     },
     "execution_count": 60,
     "metadata": {},
     "output_type": "execute_result"
    }
   ],
   "source": []
  },
  {
   "cell_type": "code",
   "execution_count": null,
   "id": "90c84ffd-c4c2-418e-ab7a-dd9a892d2fec",
   "metadata": {},
   "outputs": [],
   "source": []
  },
  {
   "cell_type": "code",
   "execution_count": null,
   "id": "05c6c2e1-1f32-487f-af1d-c96cba607ecf",
   "metadata": {},
   "outputs": [],
   "source": []
  }
 ],
 "metadata": {
  "kernelspec": {
   "display_name": "Python 3 (ipykernel)",
   "language": "python",
   "name": "python3"
  },
  "language_info": {
   "codemirror_mode": {
    "name": "ipython",
    "version": 3
   },
   "file_extension": ".py",
   "mimetype": "text/x-python",
   "name": "python",
   "nbconvert_exporter": "python",
   "pygments_lexer": "ipython3",
   "version": "3.9.18"
  }
 },
 "nbformat": 4,
 "nbformat_minor": 5
}
